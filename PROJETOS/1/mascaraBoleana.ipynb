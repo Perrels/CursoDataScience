{
 "cells": [
  {
   "cell_type": "markdown",
   "metadata": {},
   "source": [
    "<h1> Máscaras boleanas </h1>\n"
   ]
  },
  {
   "cell_type": "code",
   "execution_count": 1,
   "metadata": {},
   "outputs": [],
   "source": [
    "import numpy as np"
   ]
  },
  {
   "cell_type": "code",
   "execution_count": 4,
   "metadata": {},
   "outputs": [],
   "source": [
    "# vamos criar uma lista que vai passar valores de string\n",
    "# e com isso vamos fazer algumas verificacões utilizando mascaras booleanas\n",
    "is_covid_positive = np.array([\"Yes\", \"No\", \"Yes\", \"No\", \"Yes\", \"No\"])"
   ]
  },
  {
   "cell_type": "code",
   "execution_count": 6,
   "metadata": {},
   "outputs": [
    {
     "name": "stdout",
     "output_type": "stream",
     "text": [
      "[ True False  True False  True False]\n"
     ]
    }
   ],
   "source": [
    "# Utilizando a máscara boleana\n",
    "mask = is_covid_positive == \"Yes\"\n",
    "print(mask)"
   ]
  },
  {
   "cell_type": "code",
   "execution_count": 7,
   "metadata": {},
   "outputs": [
    {
     "name": "stdout",
     "output_type": "stream",
     "text": [
      "Yes\n",
      "['Yes' 'Yes' 'Yes']\n"
     ]
    }
   ],
   "source": [
    "#  Aqui podemos printar a posição ou também podemos colocar que queremos mostrar a mascara somente\n",
    "print(is_covid_positive[0])\n",
    "# printando a lista so com a mascara\n",
    "print(is_covid_positive[mask])"
   ]
  },
  {
   "cell_type": "code",
   "execution_count": 9,
   "metadata": {},
   "outputs": [
    {
     "name": "stdout",
     "output_type": "stream",
     "text": [
      "Lista editada -> ['C19' 'No' 'C19' 'No' 'C19' 'No']\n"
     ]
    }
   ],
   "source": [
    "# podemos também mudar a equivalencia do valor sem alterar o valor em si\n",
    "# Exemplo, quero que os Yes sejam mostrados como C19\n",
    "is_covid_positive[mask] = \"C19\"\n",
    "print(f'Lista editada -> {is_covid_positive}')\n"
   ]
  },
  {
   "cell_type": "markdown",
   "metadata": {},
   "source": [
    "<h3> Mascaras booleanas com Arrays de números </h3>"
   ]
  },
  {
   "cell_type": "code",
   "execution_count": 12,
   "metadata": {},
   "outputs": [
    {
     "name": "stdout",
     "output_type": "stream",
     "text": [
      "[False False  True  True False  True]\n",
      "[6.  7.4 8. ]\n"
     ]
    }
   ],
   "source": [
    "# Exemplo de verificação\n",
    "\n",
    "notas = np.array([2.4,4.5,6,7.4,5.6,8])\n",
    "# cria a mascara querendo somente notas acima de 6\n",
    "mask_approved_means = notas >= 6\n",
    "print(mask_approved_means)\n",
    "print(notas[mask_approved_means])"
   ]
  }
 ],
 "metadata": {
  "kernelspec": {
   "display_name": "Python 3",
   "language": "python",
   "name": "python3"
  },
  "language_info": {
   "codemirror_mode": {
    "name": "ipython",
    "version": 3
   },
   "file_extension": ".py",
   "mimetype": "text/x-python",
   "name": "python",
   "nbconvert_exporter": "python",
   "pygments_lexer": "ipython3",
   "version": "3.12.0"
  }
 },
 "nbformat": 4,
 "nbformat_minor": 2
}
