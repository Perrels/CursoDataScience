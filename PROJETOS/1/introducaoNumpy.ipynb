{
 "cells": [
  {
   "cell_type": "code",
   "execution_count": 1,
   "metadata": {},
   "outputs": [],
   "source": [
    "import numpy as np"
   ]
  },
  {
   "cell_type": "code",
   "execution_count": 2,
   "metadata": {},
   "outputs": [],
   "source": [
    "# crie uma lista\n",
    "lista = [1,2,3,4,5,6]\n",
    "\n",
    "# agora transforme ele num array do num py\n",
    "array = np.array(lista)\n"
   ]
  },
  {
   "cell_type": "code",
   "execution_count": 3,
   "metadata": {},
   "outputs": [
    {
     "name": "stdout",
     "output_type": "stream",
     "text": [
      "[1, 2, 3, 4, 5, 6]\n",
      "[1 2 3 4 5 6]\n"
     ]
    }
   ],
   "source": [
    "# <!-- printando os valores para verificar como a saida é diferente -->\n",
    "\n",
    "print(lista)\n",
    "print(array)"
   ]
  },
  {
   "cell_type": "code",
   "execution_count": 4,
   "metadata": {},
   "outputs": [
    {
     "name": "stdout",
     "output_type": "stream",
     "text": [
      "<class 'list'>\n",
      "<class 'numpy.ndarray'>\n"
     ]
    }
   ],
   "source": [
    "# mostrando o tipo da lista e do noArray\n",
    "print(type(lista))\n",
    "print(type(array))"
   ]
  },
  {
   "cell_type": "code",
   "execution_count": 5,
   "metadata": {},
   "outputs": [
    {
     "name": "stdout",
     "output_type": "stream",
     "text": [
      "1\n"
     ]
    }
   ],
   "source": [
    "# para printar o valor passando o indice do array fazemos assim\n",
    "print(array[0])"
   ]
  },
  {
   "cell_type": "code",
   "execution_count": 6,
   "metadata": {},
   "outputs": [
    {
     "name": "stdout",
     "output_type": "stream",
     "text": [
      "[9 2 3 4 5 6]\n"
     ]
    }
   ],
   "source": [
    "# alterando valor direto pelo indice\n",
    "array[0] = 9\n",
    "print(array)"
   ]
  },
  {
   "cell_type": "code",
   "execution_count": 9,
   "metadata": {},
   "outputs": [
    {
     "name": "stdout",
     "output_type": "stream",
     "text": [
      "[[0. 0. 0.]\n",
      " [0. 0. 0.]\n",
      " [0. 0. 0.]\n",
      " [0. 0. 0.]\n",
      " [0. 0. 0.]]\n"
     ]
    }
   ],
   "source": [
    "# Criando matriz de zeros 5 linhas e 3 colunas\n",
    "matriz_zeros = np.zeros((5,3))\n",
    "print(matriz_zeros)"
   ]
  },
  {
   "cell_type": "code",
   "execution_count": 11,
   "metadata": {},
   "outputs": [
    {
     "name": "stdout",
     "output_type": "stream",
     "text": [
      "Maximo 9.6\n",
      "Mínimo 2.5\n",
      "Desvio padrão 2.5351282018864447\n",
      "Média 6.074999999999999\n",
      "Menor posição 3\n"
     ]
    }
   ],
   "source": [
    "# exemplo notas de alunos\n",
    "lista_notas = [9.6 , 5.6, 6.6, 2.5]\n",
    "notas = np.array(lista_notas)\n",
    "\n",
    "# trazendo o valor máximo\n",
    "print(\"Maximo\", notas.max())\n",
    "# trazendo o valor minimo\n",
    "print('Mínimo', notas.min())\n",
    "# desvio padrão \n",
    "print(\"Desvio padrão\", notas.std())\n",
    "# media\n",
    "print(\"Média\", notas.mean())\n",
    "# menor posicao\n",
    "print(\"Menor posição\", notas.argmin())\n"
   ]
  }
 ],
 "metadata": {
  "kernelspec": {
   "display_name": "Python 3",
   "language": "python",
   "name": "python3"
  },
  "language_info": {
   "codemirror_mode": {
    "name": "ipython",
    "version": 3
   },
   "file_extension": ".py",
   "mimetype": "text/x-python",
   "name": "python",
   "nbconvert_exporter": "python",
   "pygments_lexer": "ipython3",
   "version": "3.12.0"
  }
 },
 "nbformat": 4,
 "nbformat_minor": 2
}
